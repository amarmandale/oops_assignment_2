{
 "cells": [
  {
   "cell_type": "markdown",
   "id": "155cb174-64b7-461e-875f-3023f61b1e4e",
   "metadata": {},
   "source": [
    "#### Q1. What is Abstraction in OOps? Explain with an example.\n"
   ]
  },
  {
   "cell_type": "markdown",
   "id": "ff874ae2-5d2f-4a4c-a3ac-258acd930df8",
   "metadata": {},
   "source": [
    " Abstraction is achieved through abstract base classes (ABCs) using the abc module. An abstract base class provides a blueprint for derived classes and defines abstract methods that must be implemented by its subclasses."
   ]
  },
  {
   "cell_type": "code",
   "execution_count": 4,
   "id": "bbe5e7ee-cb8e-4792-b37f-d195be12b1f3",
   "metadata": {},
   "outputs": [],
   "source": [
    "import abc\n",
    "class pwskills:\n",
    "    \n",
    "    @abc.abstractmethod\n",
    "    class maths:\n",
    "        pass\n",
    "\n",
    "\n",
    "    @abc.abstractmethod\n",
    "    class biology:\n",
    "        pass\n",
    "    \n",
    "    "
   ]
  },
  {
   "cell_type": "code",
   "execution_count": 5,
   "id": "8d1905a9-d7db-44e6-a39a-f320abcf41e3",
   "metadata": {},
   "outputs": [],
   "source": [
    "class sub_class1(pwskills):\n",
    "   \n",
    "    def maths(self):\n",
    "        print('this is maths' )\n",
    "              \n",
    "    def biology(self):\n",
    "              print('this is biology')\n",
    "              \n",
    "              "
   ]
  },
  {
   "cell_type": "code",
   "execution_count": 6,
   "id": "19edfc83-b1d7-47fb-9488-bad32b32fea1",
   "metadata": {},
   "outputs": [],
   "source": [
    "class sub_class2(pwskills):\n",
    "   \n",
    "    def maths(self):\n",
    "        print('this is maths aslo including algebra and geometry' )\n",
    "              \n",
    "    def biology(self):\n",
    "              print('this is biology also including zoology and botony')"
   ]
  },
  {
   "cell_type": "code",
   "execution_count": 17,
   "id": "a281c41d-5b6b-45aa-9a88-9c6755149bf6",
   "metadata": {},
   "outputs": [],
   "source": [
    "obj_sub_class1=  sub_class1()"
   ]
  },
  {
   "cell_type": "code",
   "execution_count": 18,
   "id": "de1170d0-cb14-4c79-80db-3bdaaa0b87f7",
   "metadata": {},
   "outputs": [],
   "source": [
    "obj_sub_class2 = sub_class2()"
   ]
  },
  {
   "cell_type": "code",
   "execution_count": 19,
   "id": "8e8f8b80-34ec-4235-ae5d-8f641ace1712",
   "metadata": {},
   "outputs": [
    {
     "name": "stdout",
     "output_type": "stream",
     "text": [
      "this is biology\n"
     ]
    }
   ],
   "source": [
    "obj_sub_class1.biology()"
   ]
  },
  {
   "cell_type": "code",
   "execution_count": 20,
   "id": "527eb2dc-a359-4137-b332-71b80d435105",
   "metadata": {},
   "outputs": [
    {
     "name": "stdout",
     "output_type": "stream",
     "text": [
      "this is biology also including zoology and botony\n"
     ]
    }
   ],
   "source": [
    "obj_sub_class2.biology()"
   ]
  },
  {
   "cell_type": "code",
   "execution_count": 21,
   "id": "8a496237-f64e-4022-8b06-0851c27c2d02",
   "metadata": {},
   "outputs": [
    {
     "name": "stdout",
     "output_type": "stream",
     "text": [
      "this is maths\n"
     ]
    }
   ],
   "source": [
    "obj_sub_class1.maths()"
   ]
  },
  {
   "cell_type": "code",
   "execution_count": 22,
   "id": "0ac2ffd0-64e8-4a29-9693-72c00bebc02f",
   "metadata": {},
   "outputs": [
    {
     "name": "stdout",
     "output_type": "stream",
     "text": [
      "this is maths aslo including algebra and geometry\n"
     ]
    }
   ],
   "source": [
    "obj_sub_class2.maths()"
   ]
  },
  {
   "cell_type": "markdown",
   "id": "ef997a9b-dcd4-48a8-a94d-fee5408d2558",
   "metadata": {},
   "source": [
    "#### Q2. Differentiate between Abstraction and Encapsulation. Explain with an example.\n"
   ]
  },
  {
   "cell_type": "markdown",
   "id": "a39a0205-a9fe-4cbd-9ec4-3d83d1c1b462",
   "metadata": {},
   "source": [
    "Abstraction and encapsulation are two important concepts in object-oriented programming (OOP) that help in achieving code modularity, reusability, and maintainability. While they are related and often used together, they have distinct purposes and characteristics.\n",
    "\n",
    "Abstraction focuses on representing the essential features of an object while hiding unnecessary details. It allows you to define abstract classes or interfaces that provide a generalized view of objects, without specifying their implementation. Abstraction allows you to work with objects at a higher level of generality, promoting code flexibility and extensibility.\n",
    "\n",
    "Encapsulation, on the other hand, is about bundling the data and methods that operate on that data within a single unit. It involves the wrapping of data (attributes) and methods (functions) into a class, where the class acts as a container or a capsule. Encapsulation provides data hiding and access control mechanisms, protecting the internal state of an object and enforcing the concept of information hiding"
   ]
  },
  {
   "cell_type": "code",
   "execution_count": 9,
   "id": "ca2d0040-8040-46b4-8980-5787bc95ce4b",
   "metadata": {},
   "outputs": [],
   "source": [
    "# example of abstraction\n",
    "import abc\n",
    "class pwskills1:\n",
    "    \n",
    "    @abc.abstractmethod\n",
    "    class maths:\n",
    "        pass\n",
    "\n",
    "\n",
    "    @abc.abstractmethod\n",
    "    class biology:\n",
    "        pass\n",
    "    "
   ]
  },
  {
   "cell_type": "code",
   "execution_count": 11,
   "id": "56eb93c7-b86b-4605-a8fa-0f9235cf3544",
   "metadata": {},
   "outputs": [],
   "source": [
    "class sub_class2(pwskills1):\n",
    "   \n",
    "    def maths(self):\n",
    "        print('this is maths aslo including algebra and geometry' )\n",
    "              \n",
    "    def biology(self):\n",
    "              print('this is biology also including zoology and botony')"
   ]
  },
  {
   "cell_type": "code",
   "execution_count": 12,
   "id": "95647c3e-1c9a-45b5-908b-c423570a5042",
   "metadata": {},
   "outputs": [],
   "source": [
    "ob= sub_class2()"
   ]
  },
  {
   "cell_type": "code",
   "execution_count": 13,
   "id": "03b08bc7-b15a-4e98-b633-6f1d84b10a37",
   "metadata": {},
   "outputs": [
    {
     "name": "stdout",
     "output_type": "stream",
     "text": [
      "this is biology also including zoology and botony\n"
     ]
    }
   ],
   "source": [
    "ob.biology()"
   ]
  },
  {
   "cell_type": "code",
   "execution_count": 14,
   "id": "a6eaa54e-144f-4b01-8865-1ca3a07ab27e",
   "metadata": {},
   "outputs": [
    {
     "name": "stdout",
     "output_type": "stream",
     "text": [
      "this is maths aslo including algebra and geometry\n"
     ]
    }
   ],
   "source": [
    "ob.maths()"
   ]
  },
  {
   "cell_type": "code",
   "execution_count": 17,
   "id": "ddb41e39-e52e-4607-a679-238da48f5834",
   "metadata": {},
   "outputs": [],
   "source": [
    "# exaple of encasulation\n",
    "class bank_account:\n",
    "    def __init__(self,balence):\n",
    "        self.__balence=balence\n",
    "        \n",
    "    def deposite(self,amount):\n",
    "        self.__balence= self.__balence + amount\n",
    "        \n",
    "    def withdraw(self,amount):\n",
    "        if self.__balence >= amount:\n",
    "            self.__balence = self.__balence - amount\n",
    "            return True\n",
    "        else:\n",
    "            return False\n",
    "    \n",
    "    def get_balence(self):\n",
    "        return self.__balence"
   ]
  },
  {
   "cell_type": "code",
   "execution_count": 19,
   "id": "0a7f3e12-93e3-4a3f-8182-9c570a79da91",
   "metadata": {},
   "outputs": [],
   "source": [
    "ob= bank_account( 3000)"
   ]
  },
  {
   "cell_type": "code",
   "execution_count": 20,
   "id": "b3e923ea-205a-421f-aaa1-9959c4a374d3",
   "metadata": {},
   "outputs": [],
   "source": [
    "ob.deposite(2000)"
   ]
  },
  {
   "cell_type": "code",
   "execution_count": 21,
   "id": "d7089868-125a-444e-b8ff-c1b4b06afd70",
   "metadata": {},
   "outputs": [
    {
     "data": {
      "text/plain": [
       "5000"
      ]
     },
     "execution_count": 21,
     "metadata": {},
     "output_type": "execute_result"
    }
   ],
   "source": [
    "ob.get_balence()"
   ]
  },
  {
   "cell_type": "code",
   "execution_count": 22,
   "id": "71cfa988-d589-4071-a34a-2af2c2c8a989",
   "metadata": {},
   "outputs": [
    {
     "data": {
      "text/plain": [
       "True"
      ]
     },
     "execution_count": 22,
     "metadata": {},
     "output_type": "execute_result"
    }
   ],
   "source": [
    "ob.withdraw(1000)"
   ]
  },
  {
   "cell_type": "code",
   "execution_count": 23,
   "id": "21b763fc-464a-43d6-9d2f-b72a4da2e15a",
   "metadata": {},
   "outputs": [
    {
     "data": {
      "text/plain": [
       "4000"
      ]
     },
     "execution_count": 23,
     "metadata": {},
     "output_type": "execute_result"
    }
   ],
   "source": [
    "ob.get_balence()"
   ]
  },
  {
   "cell_type": "markdown",
   "id": "5d5bc315-a51a-49a5-9f69-129c9cfa7bc5",
   "metadata": {},
   "source": [
    "#### Q3. What is abc module in python? Why is it used?"
   ]
  },
  {
   "cell_type": "markdown",
   "id": "9bbd6d07-4424-4735-afa5-4b5f65bd7aee",
   "metadata": {},
   "source": [
    "The abc module in Python stands for \"Abstract Base Classes.\" It is a built-in module that provides mechanisms for defining abstract base classes (ABCs) in Python. ABCs are classes that cannot be instantiated themselves but serve as a blueprint for defining common interfaces and structures for their subclasses.\n",
    "\n",
    "The abc module is used for creating abstract base classes and enforcing interface contracts. It allows you to define abstract methods and properties that must be implemented by the concrete subclasses. By utilizing ABCs, you can define a common interface or structure that multiple classes should adhere to, promoting code consistency and modularity."
   ]
  },
  {
   "cell_type": "code",
   "execution_count": 24,
   "id": "16336687-2dd8-4cc3-9c2b-1444b42baed1",
   "metadata": {},
   "outputs": [],
   "source": [
    "import abc\n",
    "class pwskills:\n",
    "    \n",
    "    @abc.abstractclassmethod       \n",
    "    def student_details(self):\n",
    "        pass \n",
    "    \n",
    "    @abc.abstractclassmethod\n",
    "    def student_assignment(self):\n",
    "        pass\n",
    "    @abc.abstractclassmethod\n",
    "    def student_mark(self):\n",
    "        pass"
   ]
  },
  {
   "cell_type": "code",
   "execution_count": 25,
   "id": "4457bd28-08c0-4041-9c9f-b4c38db7443d",
   "metadata": {},
   "outputs": [],
   "source": [
    "class student_details(pwskills):\n",
    "    def student_details(self):\n",
    "        return \" this is a method student details\"\n",
    "    \n",
    "    def student_assignment(self):\n",
    "        return 'this is method for assing detais for perticular student'"
   ]
  },
  {
   "cell_type": "code",
   "execution_count": 26,
   "id": "159224b8-fc80-4c20-a434-f9b42cbcb1ae",
   "metadata": {},
   "outputs": [],
   "source": [
    "ob= student_details()"
   ]
  },
  {
   "cell_type": "code",
   "execution_count": 27,
   "id": "fde389b2-e91c-44db-973f-80a22aa5f74a",
   "metadata": {},
   "outputs": [
    {
     "data": {
      "text/plain": [
       "'this is method for assing detais for perticular student'"
      ]
     },
     "execution_count": 27,
     "metadata": {},
     "output_type": "execute_result"
    }
   ],
   "source": [
    "ob.student_assignment()"
   ]
  },
  {
   "cell_type": "code",
   "execution_count": 28,
   "id": "e5d67bd6-8c2c-433d-9777-4ebc19604217",
   "metadata": {},
   "outputs": [
    {
     "data": {
      "text/plain": [
       "' this is a method student details'"
      ]
     },
     "execution_count": 28,
     "metadata": {},
     "output_type": "execute_result"
    }
   ],
   "source": [
    "ob.student_details()"
   ]
  },
  {
   "cell_type": "markdown",
   "id": "ec90cd71-d987-4b10-8725-f63398a6e443",
   "metadata": {},
   "source": [
    "#### Q4. How can we achieve data abstraction?"
   ]
  },
  {
   "cell_type": "markdown",
   "id": "22e8fb88-2cfe-4c07-9d06-32db34ace898",
   "metadata": {},
   "source": [
    "In object-oriented programming (OOP) in Python, data abstraction can be achieved through the use of classes, objects, and access modifiers. Here are the key steps to achieve data abstraction:\n",
    "\n",
    "1. Create a Class: Define a class that represents the abstract entity or concept you want to model. The class should have attributes to store the data and methods to operate on that data.\n",
    "\n",
    "2. Use Access Modifiers: Python provides access modifiers like public, private, and protected to control the visibility and accessibility of class members (attributes and methods). By using access modifiers, you can hide the internal data representation from the outside world and expose only the necessary interfaces.\n",
    "\n",
    "3. Provide Public Interfaces: Define public methods or properties that allow external code to interact with the object's data. These public interfaces should encapsulate the necessary operations on the data and provide a level of abstraction.\n",
    "\n",
    "4. Encapsulate Data and Operations: Encapsulate the data within the class by using private attributes and methods. The private members are only accessible from within the class. This encapsulation ensures that the internal representation is hidden and provides abstraction."
   ]
  },
  {
   "cell_type": "markdown",
   "id": "457ded84-a222-48ad-b26d-b675a3220f6d",
   "metadata": {},
   "source": [
    "#### Q5. Can we create an instance of an abstract class? Explain your answer."
   ]
  },
  {
   "cell_type": "markdown",
   "id": "f09f44d6-e4b7-4b88-b476-e20e6506a51a",
   "metadata": {},
   "source": [
    "No, we cannot create an instance of an abstract class in Python. An abstract class is a class that is meant to be inherited from and serves as a blueprint for creating concrete subclasses. It cannot be instantiated directly because it typically contains one or more abstract methods that do not have an implementation in the abstract class itself."
   ]
  },
  {
   "cell_type": "markdown",
   "id": "bb276b05-0d11-49d2-885a-5f6c2bc6e8e8",
   "metadata": {},
   "source": [
    "In Python, abstract classes are defined using the abc module, and the ABC class from this module is used as the base class for creating abstract base classes. The abstractmethod decorator is used to mark methods as abstract within the abstract base class."
   ]
  },
  {
   "cell_type": "code",
   "execution_count": 31,
   "id": "32f821cc-5296-4fb6-8099-f1f4e15e7ee3",
   "metadata": {},
   "outputs": [],
   "source": [
    "from abc import ABC, abstractmethod\n",
    "\n",
    "class AbstractClass(ABC):\n",
    "    @abstractmethod\n",
    "    def abstract_method(self):\n",
    "        pass\n"
   ]
  },
  {
   "cell_type": "code",
   "execution_count": 32,
   "id": "757203c5-0f72-420a-a0dd-5359f10b31a7",
   "metadata": {},
   "outputs": [
    {
     "ename": "TypeError",
     "evalue": "Can't instantiate abstract class AbstractClass with abstract method abstract_method",
     "output_type": "error",
     "traceback": [
      "\u001b[0;31m---------------------------------------------------------------------------\u001b[0m",
      "\u001b[0;31mTypeError\u001b[0m                                 Traceback (most recent call last)",
      "Cell \u001b[0;32mIn[32], line 1\u001b[0m\n\u001b[0;32m----> 1\u001b[0m instance \u001b[38;5;241m=\u001b[39m \u001b[43mAbstractClass\u001b[49m\u001b[43m(\u001b[49m\u001b[43m)\u001b[49m  \u001b[38;5;66;03m# This will raise a TypeError\u001b[39;00m\n",
      "\u001b[0;31mTypeError\u001b[0m: Can't instantiate abstract class AbstractClass with abstract method abstract_method"
     ]
    }
   ],
   "source": [
    "instance = AbstractClass()  # This will raise a TypeError\n"
   ]
  },
  {
   "cell_type": "markdown",
   "id": "3da926b1-9550-4fe9-8589-d9865e82c64c",
   "metadata": {},
   "source": [
    "In the example above, the AbstractClass is defined as an abstract base class by inheriting from ABC. It declares an abstract method, abstract_method(), using the abstractmethod decorator.\n",
    "\n",
    "When we try to create an instance of AbstractClass, it raises a TypeError because abstract classes cannot be instantiated directly. The purpose of an abstract class is to provide a common interface and structure for its subclasses, which must provide implementations for the abstract methods."
   ]
  },
  {
   "cell_type": "code",
   "execution_count": null,
   "id": "cefcb980-79e2-4cc5-a2fb-db3aac9e42f9",
   "metadata": {},
   "outputs": [],
   "source": []
  }
 ],
 "metadata": {
  "kernelspec": {
   "display_name": "Python 3 (ipykernel)",
   "language": "python",
   "name": "python3"
  },
  "language_info": {
   "codemirror_mode": {
    "name": "ipython",
    "version": 3
   },
   "file_extension": ".py",
   "mimetype": "text/x-python",
   "name": "python",
   "nbconvert_exporter": "python",
   "pygments_lexer": "ipython3",
   "version": "3.10.8"
  }
 },
 "nbformat": 4,
 "nbformat_minor": 5
}
